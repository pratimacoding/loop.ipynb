{
 "cells": [
  {
   "cell_type": "markdown",
   "metadata": {},
   "source": [
    "Loops"
   ]
  },
  {
   "cell_type": "code",
   "execution_count": 1,
   "metadata": {},
   "outputs": [
    {
     "name": "stdout",
     "output_type": "stream",
     "text": [
      "p\n",
      "y\n",
      "t\n",
      "h\n",
      "o\n",
      "n\n"
     ]
    }
   ],
   "source": [
    "x = \"python\"\n",
    "for i in x:\n",
    "    print(i)"
   ]
  },
  {
   "cell_type": "code",
   "execution_count": 4,
   "metadata": {},
   "outputs": [
    {
     "name": "stdout",
     "output_type": "stream",
     "text": [
      "i have apple\n",
      "i have banana\n",
      "i have lemon\n"
     ]
    }
   ],
   "source": [
    "fruit = ['apple','banana','lemon']\n",
    "for item in fruit:\n",
    "    print(f'i have {item}')"
   ]
  },
  {
   "cell_type": "code",
   "execution_count": 5,
   "metadata": {},
   "outputs": [
    {
     "name": "stdout",
     "output_type": "stream",
     "text": [
      "p\n",
      "the end\n",
      "y\n",
      "the end\n",
      "t\n",
      "the end\n",
      "h\n",
      "the end\n",
      "o\n",
      "the end\n",
      "n\n",
      "the end\n"
     ]
    }
   ],
   "source": [
    "x = \"python\"\n",
    "for i in x:\n",
    "    print(i)\n",
    "    print('the end')"
   ]
  },
  {
   "cell_type": "code",
   "execution_count": 6,
   "metadata": {},
   "outputs": [],
   "source": [
    "movies = ['The Holy Grail','The Life of Brain','The Meaning of Life','terminator','Pulp Function']"
   ]
  },
  {
   "cell_type": "code",
   "execution_count": 8,
   "metadata": {},
   "outputs": [
    {
     "name": "stdout",
     "output_type": "stream",
     "text": [
      "The Holy Grail 14\n",
      "The Life of Brain 17\n",
      "The Meaning of Life 19\n",
      "terminator 10\n",
      "Pulp Function 13\n"
     ]
    }
   ],
   "source": [
    "for movie in movies:\n",
    "    print(movie, len(movie))"
   ]
  },
  {
   "cell_type": "code",
   "execution_count": 11,
   "metadata": {},
   "outputs": [
    {
     "name": "stdout",
     "output_type": "stream",
     "text": [
      "0 - The Holy Grail\n",
      "1 - The Life of Brain\n",
      "2 - The Meaning of Life\n",
      "3 - terminator\n",
      "4 - Pulp Function\n"
     ]
    }
   ],
   "source": [
    "# for loop with counter\n",
    "for i, name in enumerate(movies):\n",
    "    print(f\"{i} - {name}\")"
   ]
  },
  {
   "cell_type": "markdown",
   "metadata": {},
   "source": [
    "Range Example"
   ]
  },
  {
   "cell_type": "code",
   "execution_count": 12,
   "metadata": {},
   "outputs": [
    {
     "name": "stdout",
     "output_type": "stream",
     "text": [
      "you got point 0\n",
      "you got point 1\n",
      "you got point 2\n",
      "you got point 3\n",
      "you got point 4\n",
      "you got point 5\n"
     ]
    }
   ],
   "source": [
    "for i in range(6):\n",
    "    print('you got point',i)"
   ]
  },
  {
   "cell_type": "code",
   "execution_count": 14,
   "metadata": {},
   "outputs": [
    {
     "name": "stdout",
     "output_type": "stream",
     "text": [
      "level 1\n",
      "level 4\n",
      "level 7\n"
     ]
    }
   ],
   "source": [
    "for num in range (1,10,3):\n",
    "    print('level',num)"
   ]
  },
  {
   "cell_type": "code",
   "execution_count": 15,
   "metadata": {},
   "outputs": [
    {
     "name": "stdout",
     "output_type": "stream",
     "text": [
      "sheep 2\n",
      "sheep 3\n",
      "sheep 4\n",
      "sheep 5\n",
      "sheep 6\n",
      "sheep 7\n",
      "sheep 8\n",
      "sheep 9\n",
      "sheep 10\n"
     ]
    }
   ],
   "source": [
    "for num in range(2,11):\n",
    "    print('sheep',num)"
   ]
  },
  {
   "cell_type": "code",
   "execution_count": 16,
   "metadata": {},
   "outputs": [
    {
     "name": "stdout",
     "output_type": "stream",
     "text": [
      "10\n",
      "9\n",
      "8\n",
      "7\n",
      "6\n"
     ]
    }
   ],
   "source": [
    "#reverse loop\n",
    "for num in range(10,5,-1):\n",
    "    print(num)"
   ]
  },
  {
   "cell_type": "code",
   "execution_count": 17,
   "metadata": {},
   "outputs": [
    {
     "name": "stdout",
     "output_type": "stream",
     "text": [
      "\n",
      "Na\n",
      "NaNa\n",
      "NaNaNa\n",
      "NaNaNaNa\n",
      "NaNaNaNaNa\n",
      "NaNaNaNaNaNa\n",
      "NaNaNaNaNaNaNa\n",
      "NaNaNaNaNaNaNaNa\n",
      "NaNaNaNaNaNaNaNaNa\n"
     ]
    }
   ],
   "source": [
    "# pattern loop\n",
    "for i in range (10):\n",
    "    print(i * 'Na')"
   ]
  },
  {
   "cell_type": "markdown",
   "metadata": {},
   "source": [
    "#### wap to print if numbers are even or odd from 1,101\n",
    "#### wap to print the sum of all even numbers from 2 to 101\n",
    "#### wap to print the everage of all odd numbers from 1 to 100"
   ]
  },
  {
   "cell_type": "code",
   "execution_count": 3,
   "metadata": {},
   "outputs": [
    {
     "name": "stdout",
     "output_type": "stream",
     "text": [
      "odd,i\n",
      "even 2\n",
      "odd,i\n",
      "even 4\n",
      "odd,i\n",
      "even 6\n",
      "odd,i\n",
      "even 8\n",
      "odd,i\n",
      "even 10\n",
      "odd,i\n",
      "even 12\n",
      "odd,i\n",
      "even 14\n",
      "odd,i\n",
      "even 16\n",
      "odd,i\n",
      "even 18\n",
      "odd,i\n",
      "even 20\n",
      "odd,i\n",
      "even 22\n",
      "odd,i\n",
      "even 24\n",
      "odd,i\n",
      "even 26\n",
      "odd,i\n",
      "even 28\n",
      "odd,i\n",
      "even 30\n",
      "odd,i\n",
      "even 32\n",
      "odd,i\n",
      "even 34\n",
      "odd,i\n",
      "even 36\n",
      "odd,i\n",
      "even 38\n",
      "odd,i\n",
      "even 40\n",
      "odd,i\n",
      "even 42\n",
      "odd,i\n",
      "even 44\n",
      "odd,i\n",
      "even 46\n",
      "odd,i\n",
      "even 48\n",
      "odd,i\n",
      "even 50\n",
      "odd,i\n",
      "even 52\n",
      "odd,i\n",
      "even 54\n",
      "odd,i\n",
      "even 56\n",
      "odd,i\n",
      "even 58\n",
      "odd,i\n",
      "even 60\n",
      "odd,i\n",
      "even 62\n",
      "odd,i\n",
      "even 64\n",
      "odd,i\n",
      "even 66\n",
      "odd,i\n",
      "even 68\n",
      "odd,i\n",
      "even 70\n",
      "odd,i\n",
      "even 72\n",
      "odd,i\n",
      "even 74\n",
      "odd,i\n",
      "even 76\n",
      "odd,i\n",
      "even 78\n",
      "odd,i\n",
      "even 80\n",
      "odd,i\n",
      "even 82\n",
      "odd,i\n",
      "even 84\n",
      "odd,i\n",
      "even 86\n",
      "odd,i\n",
      "even 88\n",
      "odd,i\n",
      "even 90\n",
      "odd,i\n",
      "even 92\n",
      "odd,i\n",
      "even 94\n",
      "odd,i\n",
      "even 96\n",
      "odd,i\n",
      "even 98\n",
      "odd,i\n",
      "even 100\n"
     ]
    }
   ],
   "source": [
    "for i in range(1,101):\n",
    "    if i % 2 == 0:\n",
    "        print('even',i)\n",
    "    else:       \n",
    "        print('odd,i')      \n"
   ]
  },
  {
   "cell_type": "code",
   "execution_count": 26,
   "metadata": {},
   "outputs": [
    {
     "name": "stdout",
     "output_type": "stream",
     "text": [
      "total of all even numbers> 2550\n"
     ]
    }
   ],
   "source": [
    "#2 simple version\n",
    "total = 0\n",
    "for i in range(2,101):\n",
    "    if i % 2 == 0 :\n",
    "        total += i\n",
    "print(\"total of all even numbers>\",total) "
   ]
  },
  {
   "cell_type": "code",
   "execution_count": 5,
   "metadata": {},
   "outputs": [
    {
     "name": "stdout",
     "output_type": "stream",
     "text": [
      "everage of all odd number> 98\n"
     ]
    }
   ],
   "source": [
    "total = 0\n",
    "for i in range(1,100):\n",
    "    if i % 2 == 0 :\n",
    "        everage = i\n",
    "print(\"everage of all odd number>\",everage)        \n",
    "\n",
    "\n",
    "\n",
    "\n",
    "\n",
    "    "
   ]
  },
  {
   "cell_type": "code",
   "execution_count": 3,
   "metadata": {},
   "outputs": [
    {
     "name": "stdout",
     "output_type": "stream",
     "text": [
      "1,2,3,4,5\n",
      "2,4,6,8,10\n",
      "3,6,9,12,15\n",
      "4,8,12,16,20\n",
      "5,10,15,20,25\n"
     ]
    }
   ],
   "source": [
    "# better imolimentation\n",
    "for i in range(1,6):\n",
    "    print(1*i,2*i,3*i,4*i,5*i,sep=',')"
   ]
  },
  {
   "cell_type": "code",
   "execution_count": 7,
   "metadata": {},
   "outputs": [
    {
     "name": "stdout",
     "output_type": "stream",
     "text": [
      "12345246810369121548121620510152025\n"
     ]
    }
   ],
   "source": [
    "# best implimentation -> dynamics row and col\n",
    "for row in range(1,6):\n",
    "    for col in range(1,6):\n",
    "        print(row * col,end='')\n",
    "print()    "
   ]
  },
  {
   "cell_type": "markdown",
   "metadata": {},
   "source": [
    "While loop"
   ]
  },
  {
   "cell_type": "code",
   "execution_count": 6,
   "metadata": {},
   "outputs": [
    {
     "name": "stdout",
     "output_type": "stream",
     "text": [
      "num\n",
      "num\n",
      "num\n",
      "num\n",
      "stop\n"
     ]
    }
   ],
   "source": [
    "x = 1\n",
    "while x < 5:\n",
    "    print('num')\n",
    "    x += 1\n",
    "print('stop')"
   ]
  },
  {
   "cell_type": "code",
   "execution_count": 14,
   "metadata": {},
   "outputs": [
    {
     "name": "stdout",
     "output_type": "stream",
     "text": [
      "The sum is 10\n"
     ]
    }
   ],
   "source": [
    "# a comlex program\n",
    "n = 10\n",
    "# initialize sum and counter\n",
    "sum = 0\n",
    "i = 1\n",
    "while i <= n:\n",
    "    sum = sum+1\n",
    "    i = i+1\n",
    "    #update counter\n",
    "    # print the sum\n",
    "print(\"The sum is\",sum)"
   ]
  },
  {
   "cell_type": "code",
   "execution_count": 10,
   "metadata": {},
   "outputs": [
    {
     "name": "stdout",
     "output_type": "stream",
     "text": [
      " total chars in poe is0\n"
     ]
    }
   ],
   "source": [
    "poem = ''\n",
    "while input('do u want to another link') == 'x':\n",
    "    line = input(\">>>\")\n",
    "    poem += line\n",
    "chars = len(poem) \n",
    "print(f\" total chars in poe is{chars}\")   \n",
    "    \n"
   ]
  },
  {
   "cell_type": "code",
   "execution_count": 13,
   "metadata": {},
   "outputs": [
    {
     "name": "stdout",
     "output_type": "stream",
     "text": [
      "55\n"
     ]
    }
   ],
   "source": [
    "# continue\n",
    "x = [1,2,'',3,4,5,'',6,7,'',8,9,10]\n",
    "total = 0\n",
    "for i in x:\n",
    "    if isinstance(i,str):\n",
    "        continue\n",
    "    total += i\n",
    "print(total)"
   ]
  },
  {
   "cell_type": "code",
   "execution_count": 3,
   "metadata": {},
   "outputs": [],
   "source": [
    "poem= ''\n",
    "while True: # infinite\n",
    "    line = input(\"enter poem line>>\")\n",
    "    if line:\n",
    "        poem += line+'/n'\n",
    "    else:\n",
    "         break\n",
    "         print(\"total chars\",len(poem))\n",
    "         print(poem)"
   ]
  },
  {
   "cell_type": "code",
   "execution_count": 7,
   "metadata": {},
   "outputs": [
    {
     "name": "stdout",
     "output_type": "stream",
     "text": [
      "1\n",
      "2\n",
      "3\n",
      "4\n",
      "5\n",
      "6\n",
      "7\n",
      "8\n",
      "9\n",
      "10\n"
     ]
    }
   ],
   "source": [
    "for num in range (1,11,1): \n",
    "     print(num)   "
   ]
  },
  {
   "cell_type": "code",
   "execution_count": null,
   "metadata": {},
   "outputs": [],
   "source": []
  },
  {
   "cell_type": "markdown",
   "metadata": {},
   "source": []
  },
  {
   "cell_type": "markdown",
   "metadata": {},
   "source": []
  },
  {
   "cell_type": "markdown",
   "metadata": {},
   "source": []
  },
  {
   "cell_type": "code",
   "execution_count": 8,
   "metadata": {},
   "outputs": [
    {
     "name": "stdout",
     "output_type": "stream",
     "text": [
      "\n",
      "\n",
      "\n",
      "\n",
      "\n",
      "\n",
      "\n",
      "\n",
      "\n",
      "\n",
      "\n",
      "\n",
      "\n",
      "\n",
      "\n",
      "\n",
      "\n",
      "\n",
      "\n",
      "\n",
      "\n",
      "\n",
      "\n",
      "\n",
      "\n"
     ]
    }
   ],
   "source": []
  }
 ],
 "metadata": {
  "interpreter": {
   "hash": "3835b9ad7576081e253dd69f6e27ec7e1067bee4461adb44e2756f508db331d5"
  },
  "kernelspec": {
   "display_name": "Python 3.9.7",
   "language": "python",
   "name": "python3"
  },
  "language_info": {
   "codemirror_mode": {
    "name": "ipython",
    "version": 3
   },
   "file_extension": ".py",
   "mimetype": "text/x-python",
   "name": "python",
   "nbconvert_exporter": "python",
   "pygments_lexer": "ipython3",
   "version": "3.9.7"
  },
  "orig_nbformat": 4
 },
 "nbformat": 4,
 "nbformat_minor": 2
}
